{
 "cells": [
  {
   "cell_type": "code",
   "execution_count": 4,
   "id": "ecc23e2a-6861-46a6-8099-4ccd2dc2a885",
   "metadata": {},
   "outputs": [],
   "source": [
    "import numpy as np\n",
    "import pandas as pd\n",
    "import matplotlib.pyplot as plt"
   ]
  },
  {
   "cell_type": "code",
   "execution_count": 3,
   "id": "864d9ef6-7e65-4669-970d-452d4903827f",
   "metadata": {},
   "outputs": [],
   "source": [
    "class Linear_regression:\n",
    "    def __init__(self, lr = 0.001, iterations = 1000):\n",
    "        self.lr = lr\n",
    "        self.iterations = iterations\n",
    "        self.beta_0 = None\n",
    "        self.weights = None ##weights is a matrix which will include all beta_1, beta_2....according to the need.\n",
    "    def fit(self, X, y):\n",
    "\n",
    "        n_samples, n_features = X.shape\n",
    "        ## initializing beta_0 and weights matrix with 0\n",
    "        self.weights = np.zeros(n_features)\n",
    "        self.beta_0 = 0\n",
    "\n",
    "        for itr in range(self.iterations):\n",
    "            y_pred = np.dot(X, self.weights) + self.beta_0 ## main equation of linear regression : 'y = mx + c'\n",
    "\n",
    "            dw = (1/n_samples) * np.dot(X.T, (y_pred-y))\n",
    "            db = (1/n_samples) * np.sum(y_pred-y)\n",
    "\n",
    "            self.weights = self.weights - lr* dw\n",
    "            self.beta_0 = self.beta_0 - lr*db\n",
    "            \n",
    "        \n",
    "    def predict():\n",
    "        y_pred = np.dot(X, self.weights) + self.beta_0\n",
    "        return y_pred "
   ]
  },
  {
   "cell_type": "code",
   "execution_count": 5,
   "id": "cce0e1be-1810-41cc-855e-6684f78844df",
   "metadata": {},
   "outputs": [
    {
     "name": "stderr",
     "output_type": "stream",
     "text": [
      "<>:1: SyntaxWarning: invalid escape sequence '\\C'\n",
      "<>:1: SyntaxWarning: invalid escape sequence '\\C'\n",
      "C:\\Users\\Harshit\\AppData\\Local\\Temp\\ipykernel_12496\\1129030305.py:1: SyntaxWarning: invalid escape sequence '\\C'\n",
      "  df = pd.read_csv(\"D:\\CODDING\\Python\\Python_Programs\\Jupyter Notebooks\\datasets\\height_weight.csv\")\n"
     ]
    },
    {
     "data": {
      "text/html": [
       "<div>\n",
       "<style scoped>\n",
       "    .dataframe tbody tr th:only-of-type {\n",
       "        vertical-align: middle;\n",
       "    }\n",
       "\n",
       "    .dataframe tbody tr th {\n",
       "        vertical-align: top;\n",
       "    }\n",
       "\n",
       "    .dataframe thead th {\n",
       "        text-align: right;\n",
       "    }\n",
       "</style>\n",
       "<table border=\"1\" class=\"dataframe\">\n",
       "  <thead>\n",
       "    <tr style=\"text-align: right;\">\n",
       "      <th></th>\n",
       "      <th>Height</th>\n",
       "      <th>Weight</th>\n",
       "    </tr>\n",
       "  </thead>\n",
       "  <tbody>\n",
       "    <tr>\n",
       "      <th>0</th>\n",
       "      <td>148</td>\n",
       "      <td>48</td>\n",
       "    </tr>\n",
       "    <tr>\n",
       "      <th>1</th>\n",
       "      <td>150</td>\n",
       "      <td>49</td>\n",
       "    </tr>\n",
       "    <tr>\n",
       "      <th>2</th>\n",
       "      <td>152</td>\n",
       "      <td>50</td>\n",
       "    </tr>\n",
       "    <tr>\n",
       "      <th>3</th>\n",
       "      <td>154</td>\n",
       "      <td>52</td>\n",
       "    </tr>\n",
       "    <tr>\n",
       "      <th>4</th>\n",
       "      <td>156</td>\n",
       "      <td>53</td>\n",
       "    </tr>\n",
       "  </tbody>\n",
       "</table>\n",
       "</div>"
      ],
      "text/plain": [
       "   Height  Weight\n",
       "0     148      48\n",
       "1     150      49\n",
       "2     152      50\n",
       "3     154      52\n",
       "4     156      53"
      ]
     },
     "execution_count": 5,
     "metadata": {},
     "output_type": "execute_result"
    }
   ],
   "source": [
    "df = pd.read_csv(\"D:\\CODDING\\Python\\Python_Programs\\Jupyter Notebooks\\datasets\\height_weight.csv\")\n",
    "df.head()"
   ]
  },
  {
   "cell_type": "code",
   "execution_count": 6,
   "id": "921eaf22-1b02-4507-ac8a-067c1849be27",
   "metadata": {},
   "outputs": [],
   "source": [
    "X = df[['Weight']] ## The feature column should be in a 2d array. If we have a single column.\n",
    "y = df['Height'] "
   ]
  },
  {
   "cell_type": "code",
   "execution_count": null,
   "id": "380e3438-da2f-40eb-bf4f-651e9ace15d1",
   "metadata": {},
   "outputs": [],
   "source": []
  }
 ],
 "metadata": {
  "kernelspec": {
   "display_name": "Python 3 (ipykernel)",
   "language": "python",
   "name": "python3"
  },
  "language_info": {
   "codemirror_mode": {
    "name": "ipython",
    "version": 3
   },
   "file_extension": ".py",
   "mimetype": "text/x-python",
   "name": "python",
   "nbconvert_exporter": "python",
   "pygments_lexer": "ipython3",
   "version": "3.13.0"
  }
 },
 "nbformat": 4,
 "nbformat_minor": 5
}
