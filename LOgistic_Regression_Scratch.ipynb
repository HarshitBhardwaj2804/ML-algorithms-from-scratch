{
 "cells": [
  {
   "cell_type": "code",
   "execution_count": 1,
   "id": "f1f6e99e-ef41-4ba6-a8c2-f0759fd3fe7b",
   "metadata": {},
   "outputs": [],
   "source": [
    "import numpy as np\n",
    "\n",
    "def sigmoid(z):\n",
    "    return 1 / (1 + np.exp(-z))\n",
    "\n",
    "class LogisticRegression_():\n",
    "    def __init__(self, lr=0.001, iterations=1000):\n",
    "        self.lr = lr\n",
    "        self.iterations = iterations\n",
    "        self.weights = None\n",
    "        self.bias = None\n",
    "\n",
    "    def fit(self, X, y):\n",
    "        samples, features = X.shape\n",
    "        self.weights = np.zeros(features)\n",
    "        self.bias = 0\n",
    "\n",
    "        for _ in range(self.iterations):\n",
    "            linear_prediction = np.dot(X, self.weights) + self.bias\n",
    "            predictions = sigmoid(linear_prediction)\n",
    "\n",
    "            dw = (1 / samples) * np.dot(X.T, (predictions - y))\n",
    "            db = (1 / samples) * np.sum(predictions - y)\n",
    "\n",
    "            self.weights -= self.lr * dw\n",
    "            self.bias -= self.lr * db\n",
    "\n",
    "    def predict(self, X):\n",
    "        linear_prediction = np.dot(X, self.weights) + self.bias\n",
    "        predictions = sigmoid(linear_prediction)\n",
    "        class_predictions = [1 if i > 0.5 else 0 for i in predictions]\n",
    "        return np.array(class_predictions)\n"
   ]
  },
  {
   "cell_type": "code",
   "execution_count": null,
   "id": "b5d330f6-9732-44ab-812a-944f80cf780e",
   "metadata": {},
   "outputs": [],
   "source": []
  },
  {
   "cell_type": "code",
   "execution_count": null,
   "id": "fbb7e465-e57c-4881-9c10-40d4aba39831",
   "metadata": {},
   "outputs": [],
   "source": []
  }
 ],
 "metadata": {
  "kernelspec": {
   "display_name": "Python 3 (ipykernel)",
   "language": "python",
   "name": "python3"
  },
  "language_info": {
   "codemirror_mode": {
    "name": "ipython",
    "version": 3
   },
   "file_extension": ".py",
   "mimetype": "text/x-python",
   "name": "python",
   "nbconvert_exporter": "python",
   "pygments_lexer": "ipython3",
   "version": "3.13.0"
  }
 },
 "nbformat": 4,
 "nbformat_minor": 5
}
